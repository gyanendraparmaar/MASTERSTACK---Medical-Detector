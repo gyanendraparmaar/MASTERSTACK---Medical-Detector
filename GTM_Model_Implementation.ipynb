{
  "nbformat": 4,
  "nbformat_minor": 0,
  "metadata": {
    "colab": {
      "provenance": []
    },
    "kernelspec": {
      "name": "python3",
      "display_name": "Python 3"
    },
    "language_info": {
      "name": "python"
    }
  },
  "cells": [
    {
      "cell_type": "code",
      "source": [
        "from google.colab import drive\n",
        "drive.mount('/content/gdrive')\n"
      ],
      "metadata": {
        "colab": {
          "base_uri": "https://localhost:8080/"
        },
        "id": "UW-FI0czSDnx",
        "outputId": "eaf7863e-85bd-4224-aae7-374434715389"
      },
      "execution_count": null,
      "outputs": [
        {
          "output_type": "stream",
          "name": "stdout",
          "text": [
            "Mounted at /content/gdrive\n"
          ]
        }
      ]
    },
    {
      "cell_type": "code",
      "execution_count": null,
      "metadata": {
        "id": "w9e5YWFEN7Bs"
      },
      "outputs": [],
      "source": [
        "from keras.models import load_model\n",
        "from PIL import Image, ImageOps\n",
        "import numpy as np"
      ]
    },
    {
      "cell_type": "code",
      "source": [
        "model = load_model(\"/content/gdrive/MyDrive/Colab Notebooks/keras_model.h5\")\n",
        "\n",
        "data = np.ndarray(shape=(1,224,224,3),dtype = np.float32)\n",
        "\n",
        "image = Image.open(\"/content/gdrive/MyDrive/Colab Notebooks/download.jpg\").convert('RGB')\n",
        "\n",
        "size = (224, 224)\n",
        "\n",
        "image = ImageOps.fit(image, size, Image.ANTIALIAS)\n",
        "\n",
        "image_array = np.asarray(image)\n",
        "\n",
        "normalized_image_array = (image_array.astype(np.float32)/127.0) - 1\n"
      ],
      "metadata": {
        "colab": {
          "base_uri": "https://localhost:8080/"
        },
        "id": "7O90fJXCQcrB",
        "outputId": "abd24a77-8c02-4bfd-a400-18a9f495177e"
      },
      "execution_count": null,
      "outputs": [
        {
          "output_type": "stream",
          "name": "stderr",
          "text": [
            "WARNING:tensorflow:No training configuration found in the save file, so the model was *not* compiled. Compile it manually.\n"
          ]
        }
      ]
    },
    {
      "cell_type": "code",
      "source": [
        "data[0] = normalized_image_array\n",
        "\n",
        "prediction = model.predict(data)\n",
        "\n",
        "index = np.argmax(prediction)\n",
        "\n",
        "confidence_score = prediction[0][index]\n",
        "\n",
        "print(\"Class \",confidence_score)"
      ],
      "metadata": {
        "colab": {
          "base_uri": "https://localhost:8080/"
        },
        "id": "Or1w9oxiRtIN",
        "outputId": "fb17bf06-e230-4da1-d2a4-3b190aaf2258"
      },
      "execution_count": null,
      "outputs": [
        {
          "output_type": "stream",
          "name": "stdout",
          "text": [
            "1/1 [==============================] - 1s 701ms/step\n",
            "Class  0.99982566\n"
          ]
        }
      ]
    }
  ]
}